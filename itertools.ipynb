{
 "cells": [
  {
   "cell_type": "markdown",
   "metadata": {},
   "source": [
    "# Itertools"
   ]
  },
  {
   "cell_type": "code",
   "execution_count": 1,
   "metadata": {},
   "outputs": [],
   "source": [
    "import itertools\n",
    "from itertools import product, groupby\n",
    "import operator"
   ]
  },
  {
   "cell_type": "markdown",
   "metadata": {},
   "source": [
    "### Nested loops\n",
    "\n",
    "* Nested loops are ugly and unreadable"
   ]
  },
  {
   "cell_type": "code",
   "execution_count": 2,
   "metadata": {},
   "outputs": [
    {
     "name": "stdout",
     "output_type": "stream",
     "text": [
      "70 2000 7\n"
     ]
    }
   ],
   "source": [
    "list_a = [1, 2020, 70]\n",
    "list_b = [2, 4, 7, 2000]\n",
    "list_c = [3, 70, 7]\n",
    "\n",
    "for a in list_a:\n",
    "    for b in list_b:\n",
    "        for c in list_c:\n",
    "            if a + b + c == 2077:\n",
    "                print(a, b, c)"
   ]
  },
  {
   "cell_type": "markdown",
   "metadata": {},
   "source": [
    "### Use itertools.product()\n",
    "\n",
    "* Returns the Cartesian product of our input variables\n",
    "* Replaces 3 nested loops into 1"
   ]
  },
  {
   "cell_type": "code",
   "execution_count": 3,
   "metadata": {},
   "outputs": [
    {
     "name": "stdout",
     "output_type": "stream",
     "text": [
      "70 2000 7\n"
     ]
    }
   ],
   "source": [
    "for a, b, c in product(list_a, list_b, list_c):\n",
    "    if a + b + c == 2077:\n",
    "        print(a, b, c)"
   ]
  },
  {
   "cell_type": "markdown",
   "metadata": {},
   "source": [
    "### Use Itertools.compress()\n",
    "\n",
    "* Filtering can be done using a few loops\n",
    "* A better way is to use `itertools.compress()` which returns an iterator that filters an iterable based on the values of a corresponding boolean mask\n",
    "* The `selector` parameter works as a mask\n",
    "  * We set `selector = [1, 1, 0, 0, 0]`\n",
    "  * Alternatively, could have used `selector = [True, True, False, False, False]`"
   ]
  },
  {
   "cell_type": "code",
   "execution_count": 4,
   "metadata": {},
   "outputs": [
    {
     "name": "stdout",
     "output_type": "stream",
     "text": [
      "['Ayub', 'Elon']\n"
     ]
    }
   ],
   "source": [
    "leaders = ['Ayub', 'Elon', 'Tim', 'Tom', 'Mark']\n",
    "selector = [1, 1, 0, 0, 0]\n",
    "print(list(itertools.compress(leaders, selector)))"
   ]
  },
  {
   "cell_type": "markdown",
   "metadata": {},
   "source": [
    "### Use Itertools.groupby()\n",
    "\n",
    "* A convenient method to group adjacent duplicate items of an iterable\n",
    "* Format is: `itertools.groupby(iterable, key_func)`\n",
    "  * `key_func` is a function that calculates keys for each element present in the iterable\n",
    "  * In the second example, we used `lambda x: x.upper()` i.e. convert all elements to uppercase\n",
    "  * Therefore we group more elements together"
   ]
  },
  {
   "cell_type": "code",
   "execution_count": 5,
   "metadata": {},
   "outputs": [
    {
     "name": "stdout",
     "output_type": "stream",
     "text": [
      "A ['A']\n",
      "Y ['Y']\n",
      "y ['y']\n",
      "Y ['Y', 'Y']\n",
      "U ['U', 'U']\n",
      "b ['b', 'b', 'b', 'b', 'b']\n"
     ]
    }
   ],
   "source": [
    "# Group a long string\n",
    "for key, group in groupby('AYyYYUUbbbbb'):\n",
    "    print(key, list(group))"
   ]
  },
  {
   "cell_type": "code",
   "execution_count": 6,
   "metadata": {},
   "outputs": [
    {
     "name": "stdout",
     "output_type": "stream",
     "text": [
      "A ['A']\n",
      "Y ['Y', 'y', 'Y', 'Y']\n",
      "U ['U', 'U']\n",
      "B ['b', 'b', 'b', 'b', 'b']\n"
     ]
    }
   ],
   "source": [
    "# Group a long string and a function that calculates the key\n",
    "for key, group in groupby('AYyYYUUbbbbb', lambda x: x.upper()):\n",
    "    print(key, list(group))"
   ]
  },
  {
   "cell_type": "markdown",
   "metadata": {},
   "source": [
    "### Use Itertools.combinations()\n",
    "\n",
    "* Return all combinations of a given length from an iterable\n",
    "* Format is `itertools.combinations(iterable, r)`\n",
    "* `r` is the sequence length to generate from the iterable"
   ]
  },
  {
   "cell_type": "code",
   "execution_count": 7,
   "metadata": {},
   "outputs": [
    {
     "name": "stdout",
     "output_type": "stream",
     "text": [
      "('A', 'y')\n",
      "('A', 'u')\n",
      "('A', 'b')\n",
      "('y', 'u')\n",
      "('y', 'b')\n",
      "('u', 'b')\n"
     ]
    }
   ],
   "source": [
    "author = ['A', 'y', 'u', 'b']\n",
    "result = itertools.combinations(author, 2)\n",
    "\n",
    "for x in result:\n",
    "    print(x)"
   ]
  },
  {
   "cell_type": "markdown",
   "metadata": {},
   "source": [
    "### Use Itertools.permutations()\n",
    "\n",
    "* Return all permutations of a given length from an iterable\n",
    "* Format is `itertools.permutations(iterable, r=None)`\n",
    "* `r` is the sequence length to generate from the iterable"
   ]
  },
  {
   "cell_type": "code",
   "execution_count": 8,
   "metadata": {},
   "outputs": [
    {
     "name": "stdout",
     "output_type": "stream",
     "text": [
      "('A', 'y')\n",
      "('A', 'u')\n",
      "('A', 'b')\n",
      "('y', 'A')\n",
      "('y', 'u')\n",
      "('y', 'b')\n",
      "('u', 'A')\n",
      "('u', 'y')\n",
      "('u', 'b')\n",
      "('b', 'A')\n",
      "('b', 'y')\n",
      "('b', 'u')\n"
     ]
    }
   ],
   "source": [
    "author = ['A', 'y', 'u', 'b']\n",
    "result = itertools.permutations(author, 2)\n",
    "\n",
    "for x in result:\n",
    "    print(x)"
   ]
  },
  {
   "cell_type": "markdown",
   "metadata": {},
   "source": [
    "### Use Itertools.accumulate()\n",
    "\n",
    "* Return accumulated items from an iterable\n",
    "* Format is `itertools.accumulate(iterable[, func, *, initial=None])`\n",
    "  * If func is supplied, it should be a function of two arguments\n",
    "  * Elements of the input iterable may be any type that can be accepted as arguments to func. (For example, with the default operation of addition, elements may be any addable type including Decimal or Fraction.)"
   ]
  },
  {
   "cell_type": "code",
   "execution_count": 9,
   "metadata": {},
   "outputs": [
    {
     "name": "stdout",
     "output_type": "stream",
     "text": [
      "[1, 2, 6, 24, 120]\n"
     ]
    }
   ],
   "source": [
    "nums = [1, 2, 3, 4, 5]\n",
    "print(list(itertools.accumulate(nums, operator.mul)))"
   ]
  },
  {
   "cell_type": "markdown",
   "metadata": {},
   "source": [
    "### Make infinite iterables\n",
    "\n",
    "Itertools provides 3 functions to create an infinite variable:\n",
    "* `itertools.repeat()` - generates the same item repeatedly\n",
    "* `itertools.cycle()` - get an infinite iterator by cycling \n",
    "* `itertools.count()` - generate an infinite sequence of numbers"
   ]
  },
  {
   "cell_type": "code",
   "execution_count": 10,
   "metadata": {},
   "outputs": [
    {
     "name": "stdout",
     "output_type": "stream",
     "text": [
      "['Ayub', 'Ayub', 'Ayub']\n"
     ]
    }
   ],
   "source": [
    "# .repeat()\n",
    "print(list(itertools.repeat('Ayub', 3)))"
   ]
  },
  {
   "cell_type": "code",
   "execution_count": 11,
   "metadata": {},
   "outputs": [
    {
     "name": "stdout",
     "output_type": "stream",
     "text": [
      "A,y,u,b,A,y,u,b,A,y,u,b,"
     ]
    }
   ],
   "source": [
    "# .cycle()\n",
    "count = 0\n",
    "\n",
    "for c in itertools.cycle('Ayub'):\n",
    "    if count >= 12:\n",
    "        break\n",
    "    else:\n",
    "        print(c, end=',')\n",
    "        count += 1"
   ]
  },
  {
   "cell_type": "code",
   "execution_count": 12,
   "metadata": {},
   "outputs": [
    {
     "name": "stdout",
     "output_type": "stream",
     "text": [
      "0 2 4 6 8 10 12 14 16 18 "
     ]
    }
   ],
   "source": [
    "# .count()\n",
    "\n",
    "for i in itertools.count(0, 2):\n",
    "    if i == 20:\n",
    "        break\n",
    "    else:\n",
    "        print(i, end=\" \")"
   ]
  },
  {
   "cell_type": "markdown",
   "metadata": {},
   "source": [
    "### Use Itertools.pairwise()\n",
    "\n",
    "* Return tuples of pairs \n",
    "* format is `itertools.pairwise(iterable)`"
   ]
  },
  {
   "cell_type": "code",
   "execution_count": 13,
   "metadata": {},
   "outputs": [
    {
     "name": "stdout",
     "output_type": "stream",
     "text": [
      "[('a', 'b'), ('b', 'c'), ('c', 'd'), ('d', 'e')]\n"
     ]
    }
   ],
   "source": [
    "letters = ['a', 'b', 'c', 'd', 'e']\n",
    "\n",
    "result = itertools.pairwise(letters)\n",
    "print(list(result))"
   ]
  },
  {
   "cell_type": "markdown",
   "metadata": {},
   "source": [
    "### Use Itertools.takewhile()\n",
    "\n",
    "* Returns an iterator\n",
    "* Generates elements from an iterable so long as a given predicate function is `True`\n",
    "* The takewhile() function stops when the evaluating function is `False`\n",
    "* Unlike the filter() function which goes through the whole list\n"
   ]
  },
  {
   "cell_type": "code",
   "execution_count": 23,
   "metadata": {},
   "outputs": [
    {
     "name": "stdout",
     "output_type": "stream",
     "text": [
      "List of numbers to search: [1, 61, 7, 9, 2077]\n",
      "Search until number is < 10\n",
      "itertools.takewhile() stops as soon as the condition is False, returns: [1]\n",
      "filter() continues checking the whole list, returns: [1, 7, 9]\n"
     ]
    }
   ],
   "source": [
    "nums = [1, 61, 7, 9, 2077]\n",
    "takewhile_numbers = list(itertools.takewhile(lambda x: x < 10, nums))\n",
    "filter_numbers = list(filter(lambda x: x < 10, nums))\n",
    "\n",
    "print(f\"List of numbers to search: {nums}\")\n",
    "print(\"Search until number is < 10\")\n",
    "print(f\"itertools.takewhile() stops as soon as the condition is False, returns: {takewhile_numbers}\")\n",
    "print(f\"filter() continues checking the whole list, returns: {filter_numbers}\")"
   ]
  },
  {
   "cell_type": "markdown",
   "metadata": {},
   "source": [
    "### Use Itertools.dropwhile()\n",
    "\n",
    "* The dropwhile() function of Python returns an iterator only after the func. in argument returns false for the first time\n",
    "* Format is `dropwhile(func, seq)`\n",
    "* Reverse of `itertools.takewhile()`\n",
    "* Drops the elements of the iterable so long as the predicate function is `True` and then returns the remaining elements"
   ]
  },
  {
   "cell_type": "code",
   "execution_count": 33,
   "metadata": {},
   "outputs": [
    {
     "name": "stdout",
     "output_type": "stream",
     "text": [
      "List of numbers to search: [1, 61, 7, 9, 2077]\n",
      "Drop numbers until < 100 then return remaining numbers\n",
      "[2077]\n"
     ]
    }
   ],
   "source": [
    "nums = [1, 61, 7, 9, 2077]\n",
    "dropwhile_numbers = list(itertools.dropwhile(lambda x: x < 100, nums))\n",
    "\n",
    "print(f\"List of numbers to search: {nums}\")\n",
    "print(\"Drop numbers until < 100 then return remaining numbers\")\n",
    "print(f\"{dropwhile_numbers}\")"
   ]
  }
 ],
 "metadata": {
  "kernelspec": {
   "display_name": "Python 3",
   "language": "python",
   "name": "python3"
  },
  "language_info": {
   "codemirror_mode": {
    "name": "ipython",
    "version": 3
   },
   "file_extension": ".py",
   "mimetype": "text/x-python",
   "name": "python",
   "nbconvert_exporter": "python",
   "pygments_lexer": "ipython3",
   "version": "3.10.8"
  },
  "orig_nbformat": 4
 },
 "nbformat": 4,
 "nbformat_minor": 2
}
